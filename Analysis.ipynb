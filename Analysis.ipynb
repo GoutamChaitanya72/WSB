{
  "nbformat": 4,
  "nbformat_minor": 0,
  "metadata": {
    "colab": {
      "provenance": [],
      "authorship_tag": "ABX9TyP7Mq5KHDKaI4U3YlKwBLll",
      "include_colab_link": true
    },
    "kernelspec": {
      "name": "python3",
      "display_name": "Python 3"
    },
    "language_info": {
      "name": "python"
    }
  },
  "cells": [
    {
      "cell_type": "markdown",
      "metadata": {
        "id": "view-in-github",
        "colab_type": "text"
      },
      "source": [
        "<a href=\"https://colab.research.google.com/github/GoutamChaitanya72/WSB/blob/main/Analysis.ipynb\" target=\"_parent\"><img src=\"https://colab.research.google.com/assets/colab-badge.svg\" alt=\"Open In Colab\"/></a>"
      ]
    },
    {
      "cell_type": "code",
      "source": [
        "# Stock Analysis and Technical Indicators\n",
        "This notebook fetches stock data for user-specified tickers and calculates various technical indicators, including moving averages, Fibonacci retracement levels, and support/resistance levels. It also provides simple buy/sell recommendations based on the calculated indicators."
      ],
      "metadata": {
        "id": "4h2rqKGn6XxG"
      },
      "execution_count": null,
      "outputs": []
    },
    {
      "cell_type": "code",
      "source": [
        "# Import required libraries\n",
        "import yfinance as yf\n",
        "import pandas_ta as ta\n",
        "import pandas as pd\n",
        "import ipywidgets as widgets\n",
        "from IPython.display import display, clear_output"
      ],
      "metadata": {
        "id": "r9d1YbKc6YlG"
      },
      "execution_count": null,
      "outputs": []
    },
    {
      "cell_type": "code",
      "source": [
        "# Fetch stock data\n",
        "def fetch_stock_data(ticker, period='1y', interval='1d'):\n",
        "    stock = yf.Ticker(ticker)\n",
        "    data = stock.history(period=period, interval=interval)\n",
        "    return data"
      ],
      "metadata": {
        "id": "YPG9rdxJ6ctZ"
      },
      "execution_count": null,
      "outputs": []
    },
    {
      "cell_type": "code",
      "source": [
        "# Add technical indicators\n",
        "def add_technical_indicators(data):\n",
        "    data['SMA_20'] = ta.sma(data['Close'], length=20)\n",
        "    data['SMA_50'] = ta.sma(data['Close'], length=50)\n",
        "    data['RSI'] = ta.rsi(data['Close'], length=14)\n",
        "    data['MACD'], data['MACD_Signal'], _ = ta.macd(data['Close'])\n",
        "    return data"
      ],
      "metadata": {
        "id": "ozbuAYTH6f11"
      },
      "execution_count": null,
      "outputs": []
    },
    {
      "cell_type": "code",
      "source": [
        "# Calculate moving averages\n",
        "def calculate_moving_averages(data):\n",
        "    return {\n",
        "        \"20-Day MA\": data['Close'].rolling(window=20).mean().iloc[-1],\n",
        "        \"50-Day MA\": data['Close'].rolling(window=50).mean().iloc[-1],\n",
        "        \"200-Day MA\": data['Close'].rolling(window=200).mean().iloc[-1]\n",
        "    }"
      ],
      "metadata": {
        "id": "9-st3C1e6jqw"
      },
      "execution_count": null,
      "outputs": []
    },
    {
      "cell_type": "code",
      "source": [
        "# Calculate Fibonacci retracement levels\n",
        "def calculate_fibonacci_levels(data):\n",
        "    high_range = data['High'].max()\n",
        "    low_range = data['Low'].min()\n",
        "    difference = high_range - low_range\n",
        "    return {\n",
        "        \"0.0% (Swing High)\": high_range,\n",
        "        \"23.6%\": high_range - 0.236 * difference,\n",
        "        \"38.2%\": high_range - 0.382 * difference,\n",
        "        \"50.0%\": high_range - 0.5 * difference,\n",
        "        \"61.8%\": high_range - 0.618 * difference,\n",
        "        \"100.0% (Swing Low)\": low_range\n",
        "    }"
      ],
      "metadata": {
        "id": "U4FzPkZ66m7f"
      },
      "execution_count": null,
      "outputs": []
    },
    {
      "cell_type": "code",
      "source": [
        "# Calculate support and resistance levels\n",
        "def calculate_support_resistance(data):\n",
        "    high_range = data['High'].max()\n",
        "    low_range = data['Low'].min()\n",
        "\n",
        "    # Initialize levels\n",
        "    levels = {\"S1\": None, \"S2\": None, \"S3\": None, \"R1\": None, \"R2\": None, \"R3\": None}\n",
        "\n",
        "    # Calculate support and resistance\n",
        "    levels[\"R1\"] = high_range\n",
        "    levels[\"S1\"] = low_range\n",
        "\n",
        "    difference = high_range - low_range\n",
        "    levels[\"R2\"] = high_range - 0.382 * difference\n",
        "    levels[\"R3\"] = high_range - 0.618 * difference\n",
        "    levels[\"S2\"] = low_range + 0.382 * difference\n",
        "    levels[\"S3\"] = low_range + 0.618 * difference\n",
        "\n",
        "    return levels"
      ],
      "metadata": {
        "id": "CIX2peRT6s1R"
      },
      "execution_count": null,
      "outputs": []
    },
    {
      "cell_type": "code",
      "source": [
        "# Simple buy/sell recommendation based on SMA and RSI\n",
        "def simple_recommendation(data):\n",
        "    last_rsi = data['RSI'].iloc[-1]\n",
        "    last_price = data['Close'].iloc[-1]\n",
        "    sma_20 = data['SMA_20'].iloc[-1]\n",
        "    sma_50 = data['SMA_50'].iloc[-1]\n",
        "\n",
        "    if last_price > sma_20 and last_price > sma_50 and last_rsi < 70:\n",
        "        return \"Buy\"\n",
        "    elif last_price < sma_50 and last_rsi > 70:\n",
        "        return \"Sell\"\n",
        "    else:\n",
        "        return \"Hold\""
      ],
      "metadata": {
        "id": "TPofvL5761Sk"
      },
      "execution_count": null,
      "outputs": []
    },
    {
      "cell_type": "code",
      "source": [
        "# Display results\n",
        "def display_results(data, ticker, moving_averages, fib_levels, support_resistance, real_time_price):\n",
        "    print(f\"\\nResults for {ticker}:\")\n",
        "    print(f\"Close Price: {data['Close'].iloc[-1]:.2f}\")\n",
        "\n",
        "    print(\"\\nMoving Averages:\")\n",
        "    for ma, value in moving_averages.items():\n",
        "        print(f\"{ma}: {value:.2f}\")\n",
        "\n",
        "    print(\"\\nFibonacci Retracement Levels:\")\n",
        "    for level, value in fib_levels.items():\n",
        "        print(f\"{level}: {value:.2f}\")\n",
        "\n",
        "    print(f\"\\nReal-Time Price: {real_time_price:.2f}\")\n",
        "\n",
        "    print(\"\\nSupport Levels:\")\n",
        "    print(f\"S1: {support_resistance['S1']:.2f}\")\n",
        "    print(f\"S2: {support_resistance['S2']:.2f}\")\n",
        "    print(f\"S3: {support_resistance['S3']:.2f}\")\n",
        "\n",
        "    print(\"\\nResistance Levels:\")\n",
        "    print(f\"R1: {support_resistance['R1']:.2f}\")\n",
        "    print(f\"R2: {support_resistance['R2']:.2f}\")\n",
        "    print(f\"R3: {support_resistance['R3']:.2f}\")\n",
        "\n",
        "    # Get buy/sell recommendation\n",
        "    recommendation = simple_recommendation(data)\n",
        "    print(f\"Recommendation: {recommendation}\")"
      ],
      "metadata": {
        "id": "8wZFuKir64rI"
      },
      "execution_count": null,
      "outputs": []
    },
    {
      "cell_type": "code",
      "source": [
        "# Run analysis and display results\n",
        "def run_analysis(tickers):\n",
        "    clear_output()  # Clear previous outputs\n",
        "    for ticker in tickers:\n",
        "        print(f\"\\nRunning analysis for {ticker}...\")\n",
        "\n",
        "        # Fetch data\n",
        "        data = fetch_stock_data(ticker)\n",
        "\n",
        "        # Check if data is available\n",
        "        if data.empty:\n",
        "            print(f\"No data available for {ticker}. Please check the ticker symbol.\")\n",
        "            continue\n",
        "\n",
        "        # Add technical indicators\n",
        "        data = add_technical_indicators(data)\n",
        "\n",
        "        # Calculate moving averages\n",
        "        moving_averages = calculate_moving_averages(data)\n",
        "\n",
        "        # Calculate Fibonacci retracement levels\n",
        "        fib_levels = calculate_fibonacci_levels(data)\n",
        "\n",
        "        # Calculate support and resistance levels\n",
        "        support_resistance = calculate_support_resistance(data)\n",
        "\n",
        "        # Fetch real-time price\n",
        "        real_time_price = yf.Ticker(ticker).history(period=\"1d\")['Close'].iloc[0]\n",
        "\n",
        "        # Display results\n",
        "        display_results(data, ticker, moving_averages, fib_levels, support_resistance, real_time_price)"
      ],
      "metadata": {
        "id": "IUb1M8Ey685p"
      },
      "execution_count": null,
      "outputs": []
    },
    {
      "cell_type": "code",
      "source": [
        "# Input tickers dynamically using a widget\n",
        "ticker_input = widgets.Text(\n",
        "    description='Tickers:',\n",
        "    placeholder='AAPL, MSFT'\n",
        ")\n",
        "\n",
        "run_button = widgets.Button(description='Run Analysis')\n",
        "output_area = widgets.Output()\n",
        "\n",
        "def on_run_button_clicked(b):\n",
        "    tickers = ticker_input.value.split(',')\n",
        "    run_analysis([ticker.strip().upper() for ticker in tickers])\n",
        "\n",
        "run_button.on_click(on_run_button_clicked)\n",
        "\n",
        "# Display input and button\n",
        "display(ticker_input, run_button, output_area)"
      ],
      "metadata": {
        "id": "7L8CV5Ev7HlZ"
      },
      "execution_count": null,
      "outputs": []
    }
  ]
}